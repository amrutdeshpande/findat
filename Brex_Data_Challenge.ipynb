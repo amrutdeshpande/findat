{
 "cells": [
  {
   "cell_type": "code",
   "execution_count": 1,
   "metadata": {},
   "outputs": [],
   "source": [
    "import pandas as pd"
   ]
  },
  {
   "cell_type": "code",
   "execution_count": 5,
   "metadata": {},
   "outputs": [],
   "source": [
    "customer_accounts = pd.read_csv(\"customer_accounts.csv\")\n",
    "financials_accounts = pd.read_csv(\"financials_accounts.csv\")\n",
    "financials_balances = pd.read_csv(\"financials_balances.csv\")\n",
    "financials_transactions = pd.read_csv(\"financials_transactions.csv\")"
   ]
  },
  {
   "cell_type": "code",
   "execution_count": 16,
   "metadata": {},
   "outputs": [
    {
     "data": {
      "text/html": [
       "<div>\n",
       "<style scoped>\n",
       "    .dataframe tbody tr th:only-of-type {\n",
       "        vertical-align: middle;\n",
       "    }\n",
       "\n",
       "    .dataframe tbody tr th {\n",
       "        vertical-align: top;\n",
       "    }\n",
       "\n",
       "    .dataframe thead th {\n",
       "        text-align: right;\n",
       "    }\n",
       "</style>\n",
       "<table border=\"1\" class=\"dataframe\">\n",
       "  <thead>\n",
       "    <tr style=\"text-align: right;\">\n",
       "      <th></th>\n",
       "      <th>id</th>\n",
       "      <th>name</th>\n",
       "    </tr>\n",
       "  </thead>\n",
       "  <tbody>\n",
       "    <tr>\n",
       "      <th>0</th>\n",
       "      <td>aacc_c10cwqghq00001owfyvwq126</td>\n",
       "      <td>Customer account 1</td>\n",
       "    </tr>\n",
       "    <tr>\n",
       "      <th>1</th>\n",
       "      <td>aacc_c8lodc9z00001pjfyvwq126</td>\n",
       "      <td>Customer account 2</td>\n",
       "    </tr>\n",
       "  </tbody>\n",
       "</table>\n",
       "</div>"
      ],
      "text/plain": [
       "                              id                name\n",
       "0  aacc_c10cwqghq00001owfyvwq126  Customer account 1\n",
       "1   aacc_c8lodc9z00001pjfyvwq126  Customer account 2"
      ]
     },
     "execution_count": 16,
     "metadata": {},
     "output_type": "execute_result"
    }
   ],
   "source": [
    "customer_accounts.head(2)"
   ]
  },
  {
   "cell_type": "code",
   "execution_count": 13,
   "metadata": {},
   "outputs": [
    {
     "name": "stdout",
     "output_type": "stream",
     "text": [
      "<class 'pandas.core.frame.DataFrame'>\n",
      "RangeIndex: 962 entries, 0 to 961\n",
      "Data columns (total 2 columns):\n",
      "id      962 non-null object\n",
      "name    962 non-null object\n",
      "dtypes: object(2)\n",
      "memory usage: 15.1+ KB\n"
     ]
    }
   ],
   "source": [
    "customer_accounts.info()"
   ]
  },
  {
   "cell_type": "code",
   "execution_count": 18,
   "metadata": {},
   "outputs": [
    {
     "data": {
      "text/html": [
       "<div>\n",
       "<style scoped>\n",
       "    .dataframe tbody tr th:only-of-type {\n",
       "        vertical-align: middle;\n",
       "    }\n",
       "\n",
       "    .dataframe tbody tr th {\n",
       "        vertical-align: top;\n",
       "    }\n",
       "\n",
       "    .dataframe thead th {\n",
       "        text-align: right;\n",
       "    }\n",
       "</style>\n",
       "<table border=\"1\" class=\"dataframe\">\n",
       "  <thead>\n",
       "    <tr style=\"text-align: right;\">\n",
       "      <th></th>\n",
       "      <th>id</th>\n",
       "      <th>customer_account_id</th>\n",
       "      <th>name</th>\n",
       "    </tr>\n",
       "  </thead>\n",
       "  <tbody>\n",
       "    <tr>\n",
       "      <th>0</th>\n",
       "      <td>finacc_ctzrz94k00051v354687jg1</td>\n",
       "      <td>aacc_c10cwqghq00001owfyvwq126</td>\n",
       "      <td>Bank account 1</td>\n",
       "    </tr>\n",
       "    <tr>\n",
       "      <th>1</th>\n",
       "      <td>finacc_ctzrz8vz00031v3wyouo0dk</td>\n",
       "      <td>aacc_c10cwqghq00001owfyvwq126</td>\n",
       "      <td>Bank account 2</td>\n",
       "    </tr>\n",
       "  </tbody>\n",
       "</table>\n",
       "</div>"
      ],
      "text/plain": [
       "                               id            customer_account_id  \\\n",
       "0  finacc_ctzrz94k00051v354687jg1  aacc_c10cwqghq00001owfyvwq126   \n",
       "1  finacc_ctzrz8vz00031v3wyouo0dk  aacc_c10cwqghq00001owfyvwq126   \n",
       "\n",
       "             name  \n",
       "0  Bank account 1  \n",
       "1  Bank account 2  "
      ]
     },
     "execution_count": 18,
     "metadata": {},
     "output_type": "execute_result"
    }
   ],
   "source": [
    "financials_accounts.head(2)"
   ]
  },
  {
   "cell_type": "code",
   "execution_count": 15,
   "metadata": {},
   "outputs": [
    {
     "name": "stdout",
     "output_type": "stream",
     "text": [
      "<class 'pandas.core.frame.DataFrame'>\n",
      "RangeIndex: 4704 entries, 0 to 4703\n",
      "Data columns (total 3 columns):\n",
      "id                     4704 non-null object\n",
      "customer_account_id    4704 non-null object\n",
      "name                   4704 non-null object\n",
      "dtypes: object(3)\n",
      "memory usage: 110.3+ KB\n"
     ]
    }
   ],
   "source": [
    "financials_accounts.info()"
   ]
  },
  {
   "cell_type": "code",
   "execution_count": 12,
   "metadata": {},
   "outputs": [
    {
     "data": {
      "text/html": [
       "<div>\n",
       "<style scoped>\n",
       "    .dataframe tbody tr th:only-of-type {\n",
       "        vertical-align: middle;\n",
       "    }\n",
       "\n",
       "    .dataframe tbody tr th {\n",
       "        vertical-align: top;\n",
       "    }\n",
       "\n",
       "    .dataframe thead th {\n",
       "        text-align: right;\n",
       "    }\n",
       "</style>\n",
       "<table border=\"1\" class=\"dataframe\">\n",
       "  <thead>\n",
       "    <tr style=\"text-align: right;\">\n",
       "      <th></th>\n",
       "      <th>id</th>\n",
       "      <th>account_id</th>\n",
       "      <th>amount</th>\n",
       "      <th>accrual_date</th>\n",
       "    </tr>\n",
       "  </thead>\n",
       "  <tbody>\n",
       "    <tr>\n",
       "      <th>0</th>\n",
       "      <td>finblce_clqsroena000b1o70b5d0240d</td>\n",
       "      <td>finacc_clqsrob7p000a1o70h4lnefn9</td>\n",
       "      <td>20000000</td>\n",
       "      <td>2018-03-27</td>\n",
       "    </tr>\n",
       "    <tr>\n",
       "      <th>1</th>\n",
       "      <td>finblce_clr5aflhj008l1o70d0i79s1u</td>\n",
       "      <td>finacc_clr5afi01008k1o703vlrv3it</td>\n",
       "      <td>666181756</td>\n",
       "      <td>2017-10-13</td>\n",
       "    </tr>\n",
       "    <tr>\n",
       "      <th>2</th>\n",
       "      <td>finblce_clt7z6u9500b41o70np8qcjsr</td>\n",
       "      <td>finacc_clr5afi01008k1o703vlrv3it</td>\n",
       "      <td>414855384</td>\n",
       "      <td>2018-03-28</td>\n",
       "    </tr>\n",
       "    <tr>\n",
       "      <th>3</th>\n",
       "      <td>finblce_clv20f0yn00lu1o70kn9jksah</td>\n",
       "      <td>finacc_clqsrob7p000a1o70h4lnefn9</td>\n",
       "      <td>20000000</td>\n",
       "      <td>2018-03-28</td>\n",
       "    </tr>\n",
       "    <tr>\n",
       "      <th>4</th>\n",
       "      <td>finblce_csb6sn3tc0003e5a8wyouo0dk</td>\n",
       "      <td>finacc_csb6smrli0002e5a8b7haliai</td>\n",
       "      <td>12571741</td>\n",
       "      <td>2018-03-30</td>\n",
       "    </tr>\n",
       "    <tr>\n",
       "      <th>5</th>\n",
       "      <td>finblce_csb6snho60005e5a854687jg1</td>\n",
       "      <td>finacc_csb6sne3z0004e5a8h6cklh2s</td>\n",
       "      <td>2969975</td>\n",
       "      <td>2018-03-30</td>\n",
       "    </tr>\n",
       "    <tr>\n",
       "      <th>6</th>\n",
       "      <td>finblce_csb6snskb0007e5a8k3hz7qls</td>\n",
       "      <td>finacc_csb6snoza0006e5a8p3ht5r46</td>\n",
       "      <td>0</td>\n",
       "      <td>2018-03-30</td>\n",
       "    </tr>\n",
       "    <tr>\n",
       "      <th>7</th>\n",
       "      <td>finblce_csbetbg2m00i1e5a8ml3qb3t4</td>\n",
       "      <td>finacc_csb6snoza0006e5a8p3ht5r46</td>\n",
       "      <td>0</td>\n",
       "      <td>2018-04-03</td>\n",
       "    </tr>\n",
       "    <tr>\n",
       "      <th>8</th>\n",
       "      <td>finblce_clqsrnpam00091o7007ock8i9</td>\n",
       "      <td>finacc_clqsrmqo800081o70ghgxf64s</td>\n",
       "      <td>-77413660</td>\n",
       "      <td>2018-03-27</td>\n",
       "    </tr>\n",
       "    <tr>\n",
       "      <th>9</th>\n",
       "      <td>finblce_clv1zuyk700lp1o70jguigdlo</td>\n",
       "      <td>finacc_clqsrmqo800081o70ghgxf64s</td>\n",
       "      <td>-76369727</td>\n",
       "      <td>2018-03-28</td>\n",
       "    </tr>\n",
       "  </tbody>\n",
       "</table>\n",
       "</div>"
      ],
      "text/plain": [
       "                                  id                        account_id  \\\n",
       "0  finblce_clqsroena000b1o70b5d0240d  finacc_clqsrob7p000a1o70h4lnefn9   \n",
       "1  finblce_clr5aflhj008l1o70d0i79s1u  finacc_clr5afi01008k1o703vlrv3it   \n",
       "2  finblce_clt7z6u9500b41o70np8qcjsr  finacc_clr5afi01008k1o703vlrv3it   \n",
       "3  finblce_clv20f0yn00lu1o70kn9jksah  finacc_clqsrob7p000a1o70h4lnefn9   \n",
       "4  finblce_csb6sn3tc0003e5a8wyouo0dk  finacc_csb6smrli0002e5a8b7haliai   \n",
       "5  finblce_csb6snho60005e5a854687jg1  finacc_csb6sne3z0004e5a8h6cklh2s   \n",
       "6  finblce_csb6snskb0007e5a8k3hz7qls  finacc_csb6snoza0006e5a8p3ht5r46   \n",
       "7  finblce_csbetbg2m00i1e5a8ml3qb3t4  finacc_csb6snoza0006e5a8p3ht5r46   \n",
       "8  finblce_clqsrnpam00091o7007ock8i9  finacc_clqsrmqo800081o70ghgxf64s   \n",
       "9  finblce_clv1zuyk700lp1o70jguigdlo  finacc_clqsrmqo800081o70ghgxf64s   \n",
       "\n",
       "      amount accrual_date  \n",
       "0   20000000   2018-03-27  \n",
       "1  666181756   2017-10-13  \n",
       "2  414855384   2018-03-28  \n",
       "3   20000000   2018-03-28  \n",
       "4   12571741   2018-03-30  \n",
       "5    2969975   2018-03-30  \n",
       "6          0   2018-03-30  \n",
       "7          0   2018-04-03  \n",
       "8  -77413660   2018-03-27  \n",
       "9  -76369727   2018-03-28  "
      ]
     },
     "execution_count": 12,
     "metadata": {},
     "output_type": "execute_result"
    }
   ],
   "source": [
    " financials_balances.head(10)"
   ]
  },
  {
   "cell_type": "code",
   "execution_count": 10,
   "metadata": {},
   "outputs": [
    {
     "name": "stdout",
     "output_type": "stream",
     "text": [
      "<class 'pandas.core.frame.DataFrame'>\n",
      "RangeIndex: 193500 entries, 0 to 193499\n",
      "Data columns (total 4 columns):\n",
      "id              193500 non-null object\n",
      "account_id      193500 non-null object\n",
      "amount          193500 non-null int64\n",
      "accrual_date    193500 non-null object\n",
      "dtypes: int64(1), object(3)\n",
      "memory usage: 5.9+ MB\n"
     ]
    }
   ],
   "source": [
    " financials_balances.info()"
   ]
  },
  {
   "cell_type": "code",
   "execution_count": 7,
   "metadata": {},
   "outputs": [
    {
     "data": {
      "text/html": [
       "<div>\n",
       "<style scoped>\n",
       "    .dataframe tbody tr th:only-of-type {\n",
       "        vertical-align: middle;\n",
       "    }\n",
       "\n",
       "    .dataframe tbody tr th {\n",
       "        vertical-align: top;\n",
       "    }\n",
       "\n",
       "    .dataframe thead th {\n",
       "        text-align: right;\n",
       "    }\n",
       "</style>\n",
       "<table border=\"1\" class=\"dataframe\">\n",
       "  <thead>\n",
       "    <tr style=\"text-align: right;\">\n",
       "      <th></th>\n",
       "      <th>id</th>\n",
       "      <th>account_id</th>\n",
       "      <th>amount</th>\n",
       "      <th>accrual_date</th>\n",
       "    </tr>\n",
       "  </thead>\n",
       "  <tbody>\n",
       "    <tr>\n",
       "      <th>0</th>\n",
       "      <td>fintrn_clqswgddo000d1o70bw046m1l</td>\n",
       "      <td>finacc_clqsrmqo800081o70ghgxf64s</td>\n",
       "      <td>-1142</td>\n",
       "      <td>2017-10-04</td>\n",
       "    </tr>\n",
       "    <tr>\n",
       "      <th>1</th>\n",
       "      <td>fintrn_clqswgdgq000e1o707aru17jl</td>\n",
       "      <td>finacc_clqsrmqo800081o70ghgxf64s</td>\n",
       "      <td>-1800</td>\n",
       "      <td>2017-10-02</td>\n",
       "    </tr>\n",
       "    <tr>\n",
       "      <th>2</th>\n",
       "      <td>fintrn_clqsz0mzq000i1o700nzc0xi4</td>\n",
       "      <td>finacc_clqsrob7p000a1o70h4lnefn9</td>\n",
       "      <td>1043933</td>\n",
       "      <td>2018-03-26</td>\n",
       "    </tr>\n",
       "    <tr>\n",
       "      <th>3</th>\n",
       "      <td>fintrn_clqsz0n1b000j1o701qkb1ydg</td>\n",
       "      <td>finacc_clqsrob7p000a1o70h4lnefn9</td>\n",
       "      <td>-1200</td>\n",
       "      <td>2018-03-26</td>\n",
       "    </tr>\n",
       "    <tr>\n",
       "      <th>4</th>\n",
       "      <td>fintrn_clqsz0n2z000k1o70zkcqk7ti</td>\n",
       "      <td>finacc_clqsrob7p000a1o70h4lnefn9</td>\n",
       "      <td>-986752</td>\n",
       "      <td>2018-03-26</td>\n",
       "    </tr>\n",
       "    <tr>\n",
       "      <th>5</th>\n",
       "      <td>fintrn_clqsz0n45000l1o70lxludzzy</td>\n",
       "      <td>finacc_clqsrob7p000a1o70h4lnefn9</td>\n",
       "      <td>-55980</td>\n",
       "      <td>2018-03-26</td>\n",
       "    </tr>\n",
       "    <tr>\n",
       "      <th>6</th>\n",
       "      <td>fintrn_clqsz0n5g000m1o70o0d1vjfe</td>\n",
       "      <td>finacc_clqsrob7p000a1o70h4lnefn9</td>\n",
       "      <td>3300</td>\n",
       "      <td>2018-03-23</td>\n",
       "    </tr>\n",
       "    <tr>\n",
       "      <th>7</th>\n",
       "      <td>fintrn_clqsz0n6n000n1o70w4xosm48</td>\n",
       "      <td>finacc_clqsrob7p000a1o70h4lnefn9</td>\n",
       "      <td>-3300</td>\n",
       "      <td>2018-03-23</td>\n",
       "    </tr>\n",
       "    <tr>\n",
       "      <th>8</th>\n",
       "      <td>fintrn_clqsz0n7r000o1o70kz2pal7j</td>\n",
       "      <td>finacc_clqsrob7p000a1o70h4lnefn9</td>\n",
       "      <td>468187</td>\n",
       "      <td>2018-03-14</td>\n",
       "    </tr>\n",
       "    <tr>\n",
       "      <th>9</th>\n",
       "      <td>fintrn_clqsz0n8z000p1o70pwwaefee</td>\n",
       "      <td>finacc_clqsrob7p000a1o70h4lnefn9</td>\n",
       "      <td>-468187</td>\n",
       "      <td>2018-03-14</td>\n",
       "    </tr>\n",
       "  </tbody>\n",
       "</table>\n",
       "</div>"
      ],
      "text/plain": [
       "                                 id                        account_id  \\\n",
       "0  fintrn_clqswgddo000d1o70bw046m1l  finacc_clqsrmqo800081o70ghgxf64s   \n",
       "1  fintrn_clqswgdgq000e1o707aru17jl  finacc_clqsrmqo800081o70ghgxf64s   \n",
       "2  fintrn_clqsz0mzq000i1o700nzc0xi4  finacc_clqsrob7p000a1o70h4lnefn9   \n",
       "3  fintrn_clqsz0n1b000j1o701qkb1ydg  finacc_clqsrob7p000a1o70h4lnefn9   \n",
       "4  fintrn_clqsz0n2z000k1o70zkcqk7ti  finacc_clqsrob7p000a1o70h4lnefn9   \n",
       "5  fintrn_clqsz0n45000l1o70lxludzzy  finacc_clqsrob7p000a1o70h4lnefn9   \n",
       "6  fintrn_clqsz0n5g000m1o70o0d1vjfe  finacc_clqsrob7p000a1o70h4lnefn9   \n",
       "7  fintrn_clqsz0n6n000n1o70w4xosm48  finacc_clqsrob7p000a1o70h4lnefn9   \n",
       "8  fintrn_clqsz0n7r000o1o70kz2pal7j  finacc_clqsrob7p000a1o70h4lnefn9   \n",
       "9  fintrn_clqsz0n8z000p1o70pwwaefee  finacc_clqsrob7p000a1o70h4lnefn9   \n",
       "\n",
       "    amount accrual_date  \n",
       "0    -1142   2017-10-04  \n",
       "1    -1800   2017-10-02  \n",
       "2  1043933   2018-03-26  \n",
       "3    -1200   2018-03-26  \n",
       "4  -986752   2018-03-26  \n",
       "5   -55980   2018-03-26  \n",
       "6     3300   2018-03-23  \n",
       "7    -3300   2018-03-23  \n",
       "8   468187   2018-03-14  \n",
       "9  -468187   2018-03-14  "
      ]
     },
     "execution_count": 7,
     "metadata": {},
     "output_type": "execute_result"
    }
   ],
   "source": [
    "financials_transactions.head(10)"
   ]
  },
  {
   "cell_type": "code",
   "execution_count": 8,
   "metadata": {},
   "outputs": [
    {
     "name": "stdout",
     "output_type": "stream",
     "text": [
      "<class 'pandas.core.frame.DataFrame'>\n",
      "RangeIndex: 1112797 entries, 0 to 1112796\n",
      "Data columns (total 4 columns):\n",
      "id              1112797 non-null object\n",
      "account_id      1112797 non-null object\n",
      "amount          1112797 non-null int64\n",
      "accrual_date    1112797 non-null object\n",
      "dtypes: int64(1), object(3)\n",
      "memory usage: 34.0+ MB\n"
     ]
    }
   ],
   "source": [
    " financials_transactions.info()"
   ]
  },
  {
   "cell_type": "code",
   "execution_count": null,
   "metadata": {},
   "outputs": [],
   "source": [
    "select t.username, t.date, t.value\n",
    "from MyTable t\n",
    "inner join (\n",
    "    select username, max(date) as MaxDate\n",
    "    from MyTable\n",
    "    group by username\n",
    ") tm on t.username = tm.username and t.date = tm.MaxDate"
   ]
  },
  {
   "cell_type": "code",
   "execution_count": 19,
   "metadata": {},
   "outputs": [
    {
     "ename": "ModuleNotFoundError",
     "evalue": "No module named 'pandasql'",
     "output_type": "error",
     "traceback": [
      "\u001b[1;31m---------------------------------------------------------------------------\u001b[0m",
      "\u001b[1;31mModuleNotFoundError\u001b[0m                       Traceback (most recent call last)",
      "\u001b[1;32m<ipython-input-19-5cd30a9f4f03>\u001b[0m in \u001b[0;36m<module>\u001b[1;34m\u001b[0m\n\u001b[1;32m----> 1\u001b[1;33m \u001b[1;32mimport\u001b[0m \u001b[0mpandasql\u001b[0m\u001b[1;33m\u001b[0m\u001b[1;33m\u001b[0m\u001b[0m\n\u001b[0m",
      "\u001b[1;31mModuleNotFoundError\u001b[0m: No module named 'pandasql'"
     ]
    }
   ],
   "source": [
    "import pandasql"
   ]
  }
 ],
 "metadata": {
  "kernelspec": {
   "display_name": "Python 3",
   "language": "python",
   "name": "python3"
  },
  "language_info": {
   "codemirror_mode": {
    "name": "ipython",
    "version": 3
   },
   "file_extension": ".py",
   "mimetype": "text/x-python",
   "name": "python",
   "nbconvert_exporter": "python",
   "pygments_lexer": "ipython3",
   "version": "3.7.1"
  }
 },
 "nbformat": 4,
 "nbformat_minor": 2
}
